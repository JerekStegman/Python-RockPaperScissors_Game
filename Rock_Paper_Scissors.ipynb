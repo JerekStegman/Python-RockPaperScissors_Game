{
 "cells": [
  {
   "cell_type": "markdown",
   "metadata": {},
   "source": [
    "## Jupyter File to show game running"
   ]
  },
  {
   "cell_type": "code",
   "execution_count": 1,
   "metadata": {},
   "outputs": [
    {
     "name": "stdout",
     "output_type": "stream",
     "text": [
      "User: Rock\n",
      "Computer: Rock\n",
      "It's a tie!\n"
     ]
    }
   ],
   "source": [
    "import random \n",
    "\n",
    "choices = (\"Rock\", \"Paper\", \"Scissors\")\n",
    "user = input(\"Please select one: Rock, Paper, Scissors.\")\n",
    "\n",
    "while user not in choices:\n",
    "    user = input(\"Your input was not valid. Please select one: Rock, Paper, Scissors. PS it is case sensetive!\")\n",
    "\n",
    "computer = random.choice(choices) \n",
    "\n",
    "print(f\"User: {user}\")\n",
    "print(f\"Computer: {computer}\")\n",
    "\n",
    "if computer == user: \n",
    "    print(f\"It's a tie!\")\n",
    "elif((user == \"Rock\" and computer == \"Scissors\") or (user == \"Scissors\" and computer == \"Paper\") or (user == \"Paper\" and computer == \"Rock\")):\n",
    "    print(f\"You win!\")\n",
    "else: \n",
    "    print(f\"You lose :(\")\n",
    "\n"
   ]
  }
 ],
 "metadata": {
  "kernelspec": {
   "display_name": "Python 3",
   "language": "python",
   "name": "python3"
  },
  "language_info": {
   "codemirror_mode": {
    "name": "ipython",
    "version": 3
   },
   "file_extension": ".py",
   "mimetype": "text/x-python",
   "name": "python",
   "nbconvert_exporter": "python",
   "pygments_lexer": "ipython3",
   "version": "3.12.0"
  }
 },
 "nbformat": 4,
 "nbformat_minor": 2
}
